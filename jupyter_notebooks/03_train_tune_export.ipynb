{
 "cells": [
  {
   "cell_type": "markdown",
   "id": "8e658c67",
   "metadata": {},
   "source": [
    "# Notebook 03 — Modeling & Export\n",
    "\n",
    "**Goal:** Train baseline (LogReg, RF), tune RF, evaluate, and export the best pipeline.  \n",
    "**Input:** `../data/processed/hr_attrition_ready.parquet`  \n",
    "**Outputs:** `../artifacts/v1/rf_pipeline.joblib`, `../artifacts/v1/features.json`  \n"
   ]
  },
  {
   "cell_type": "code",
   "execution_count": 1,
   "id": "6ea41e00",
   "metadata": {},
   "outputs": [
    {
     "name": "stdout",
     "output_type": "stream",
     "text": [
      "\n",
      "=== LogReg ===\n",
      "              precision    recall  f1-score   support\n",
      "\n",
      "           0       0.87      0.97      0.91       247\n",
      "           1       0.56      0.21      0.31        47\n",
      "\n",
      "    accuracy                           0.85       294\n",
      "   macro avg       0.71      0.59      0.61       294\n",
      "weighted avg       0.82      0.85      0.82       294\n",
      "\n",
      "ROC-AUC: 0.7768972349039539\n",
      "Confusion matrix:\n",
      " [[239   8]\n",
      " [ 37  10]]\n",
      "\n",
      "=== RF ===\n",
      "              precision    recall  f1-score   support\n",
      "\n",
      "           0       0.86      0.96      0.91       247\n",
      "           1       0.44      0.17      0.25        47\n",
      "\n",
      "    accuracy                           0.83       294\n",
      "   macro avg       0.65      0.56      0.58       294\n",
      "weighted avg       0.79      0.83      0.80       294\n",
      "\n",
      "ROC-AUC: 0.7623395641312776\n",
      "Confusion matrix:\n",
      " [[237  10]\n",
      " [ 39   8]]\n"
     ]
    }
   ],
   "source": [
    "import pandas as pd\n",
    "from sklearn.model_selection import train_test_split\n",
    "from sklearn.metrics import classification_report, confusion_matrix, roc_auc_score\n",
    "from sklearn.compose import ColumnTransformer\n",
    "from sklearn.pipeline import Pipeline\n",
    "from sklearn.preprocessing import OneHotEncoder, StandardScaler\n",
    "from sklearn.impute import SimpleImputer\n",
    "from sklearn.linear_model import LogisticRegression\n",
    "from sklearn.ensemble import RandomForestClassifier\n",
    "from pathlib import Path\n",
    "\n",
    "df = pd.read_parquet(\"../data/processed/hr_attrition_ready.parquet\")\n",
    "\n",
    "NUM = [\"Age\",\"MonthlyIncome\",\"DistanceFromHome\",\"TotalWorkingYears\",\n",
    "       \"YearsAtCompany\",\"NumCompaniesWorked\",\"PercentSalaryHike\"]\n",
    "CAT = [\"OverTime\",\"JobRole\",\"MaritalStatus\",\"BusinessTravel\",\n",
    "       \"Department\",\"EducationField\",\"Gender\",\"JobLevel\"]\n",
    "\n",
    "X = df[NUM + CAT]\n",
    "y = df[\"target\"]\n",
    "\n",
    "Xtr, Xte, ytr, yte = train_test_split(X, y, test_size=0.2, stratify=y, random_state=42)\n",
    "\n",
    "def preproc(num, cat):\n",
    "    return ColumnTransformer([\n",
    "        (\"num\", Pipeline([(\"impute\", SimpleImputer(strategy=\"median\")),\n",
    "                          (\"scale\", StandardScaler())]), num),\n",
    "        (\"cat\", Pipeline([(\"impute\", SimpleImputer(strategy=\"most_frequent\")),\n",
    "                          (\"onehot\", OneHotEncoder(handle_unknown=\"ignore\"))]), cat)\n",
    "    ])\n",
    "\n",
    "logreg = Pipeline([(\"pre\", preproc(NUM, CAT)), (\"clf\", LogisticRegression(max_iter=1000))])\n",
    "rf     = Pipeline([(\"pre\", preproc(NUM, CAT)), (\"clf\", RandomForestClassifier(random_state=42))])\n",
    "\n",
    "for name, model in [(\"LogReg\", logreg), (\"RF\", rf)]:\n",
    "    model.fit(Xtr, ytr)\n",
    "    preds = model.predict(Xte)\n",
    "    probs = model.predict_proba(Xte)[:,1]\n",
    "    print(f\"\\n=== {name} ===\")\n",
    "    print(classification_report(yte, preds))\n",
    "    print(\"ROC-AUC:\", roc_auc_score(yte, probs))\n",
    "    print(\"Confusion matrix:\\n\", confusion_matrix(yte, preds))"
   ]
  },
  {
   "cell_type": "code",
   "execution_count": 2,
   "id": "5f2102d3",
   "metadata": {},
   "outputs": [
    {
     "name": "stdout",
     "output_type": "stream",
     "text": [
      "Fitting 5 folds for each of 729 candidates, totalling 3645 fits\n"
     ]
    },
    {
     "name": "stdout",
     "output_type": "stream",
     "text": [
      "Best params: {'clf__criterion': 'gini', 'clf__max_depth': 16, 'clf__max_features': 'sqrt', 'clf__min_samples_leaf': 2, 'clf__min_samples_split': 2, 'clf__n_estimators': 100}\n",
      "Test ROC-AUC: 0.7682832285295892\n"
     ]
    }
   ],
   "source": [
    "from sklearn.model_selection import GridSearchCV\n",
    "\n",
    "param_grid = {\n",
    "    \"clf__n_estimators\": [100, 300, 500],\n",
    "    \"clf__max_depth\": [None, 8, 16],\n",
    "    \"clf__min_samples_split\": [2, 5, 10],\n",
    "    \"clf__min_samples_leaf\": [1, 2, 4],\n",
    "    \"clf__max_features\": [\"sqrt\", \"log2\", None],\n",
    "    \"clf__criterion\": [\"gini\", \"entropy\", \"log_loss\"]\n",
    "}\n",
    "\n",
    "rf = Pipeline([(\"pre\", preproc(NUM, CAT)), (\"clf\", RandomForestClassifier(random_state=42))])\n",
    "grid = GridSearchCV(rf, param_grid=param_grid, scoring=\"roc_auc\", cv=5, n_jobs=-1, verbose=1)\n",
    "grid.fit(Xtr, ytr)\n",
    "\n",
    "best = grid.best_estimator_\n",
    "print(\"Best params:\", grid.best_params_)\n",
    "from sklearn.metrics import roc_auc_score\n",
    "print(\"Test ROC-AUC:\", roc_auc_score(yte, best.predict_proba(Xte)[:,1]))"
   ]
  },
  {
   "cell_type": "code",
   "execution_count": null,
   "id": "e9a0499e",
   "metadata": {},
   "outputs": [],
   "source": [
    "from sklearn.model_selection import GridSearchCV\n",
    "\n",
    "small_grid = {\n",
    "    \"clf__n_estimators\": [150, 300],\n",
    "    \"clf__max_depth\": [None, 12],\n",
    "    \"clf__min_samples_split\": [2, 5],\n",
    "    \"clf__min_samples_leaf\": [1, 2],\n",
    "    \"clf__max_features\": [\"sqrt\", \"log2\"],\n",
    "    \"clf__criterion\": [\"gini\", \"entropy\"],\n",
    "}\n",
    "rf = Pipeline([(\"pre\", preproc(NUM, CAT)),\n",
    "               (\"clf\", RandomForestClassifier(random_state=42))])\n",
    "\n",
    "grid = GridSearchCV(rf, param_grid=small_grid, scoring=\"roc_auc\", cv=3, n_jobs=-1, verbose=1)\n",
    "grid.fit(Xtr, ytr)\n",
    "\n",
    "best = grid.best_estimator_\n",
    "print(\"Best params:\", grid.best_params_)\n",
    "from sklearn.metrics import roc_auc_score\n",
    "print(\"Test ROC-AUC:\", roc_auc_score(yte, best.predict_proba(Xte)[:,1]))"
   ]
  },
  {
   "cell_type": "code",
   "execution_count": 3,
   "id": "1a1213f0",
   "metadata": {},
   "outputs": [
    {
     "name": "stdout",
     "output_type": "stream",
     "text": [
      "✅ Exported → ../artifacts/v1/rf_pipeline.joblib and ../artifacts/v1/features.json\n"
     ]
    }
   ],
   "source": [
    "import json, joblib, os\n",
    "ART = Path(\"../artifacts/v1\"); ART.mkdir(parents=True, exist_ok=True)\n",
    "joblib.dump(best, ART/\"rf_pipeline.joblib\")\n",
    "json.dump(NUM + CAT, open(ART/\"features.json\", \"w\"))\n",
    "print(\"✅ Exported →\", ART/\"rf_pipeline.joblib\", \"and\", ART/\"features.json\")"
   ]
  }
 ],
 "metadata": {
  "kernelspec": {
   "display_name": "Python 3",
   "language": "python",
   "name": "python3"
  },
  "language_info": {
   "codemirror_mode": {
    "name": "ipython",
    "version": 3
   },
   "file_extension": ".py",
   "mimetype": "text/x-python",
   "name": "python",
   "nbconvert_exporter": "python",
   "pygments_lexer": "ipython3",
   "version": "3.12.11"
  }
 },
 "nbformat": 4,
 "nbformat_minor": 5
}
