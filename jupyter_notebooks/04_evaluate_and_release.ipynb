{
 "cells": [
  {
   "cell_type": "markdown",
   "id": "08179d15",
   "metadata": {},
   "source": [
    "# Notebook 04 — Evaluate & Release\n",
    "\n",
    "**Goal:** Make simple evaluation visuals for the trained model and save them for the README / dashboard.\n",
    "\n",
    "**What I do here:**\n",
    "1) Load the saved model + features + ready data  \n",
    "2) Compute probabilities and basic metrics  \n",
    "3) Plot & save **ROC Curve**  \n",
    "4) Plot & save **Confusion Matrix** (threshold = 0.50)  \n",
    "5) (Nice extra) Try a few thresholds and save a small table\n",
    "\n",
    "**Inputs:**  \n",
    "- `../artifacts/v1/rf_pipeline.joblib`  \n",
    "- `../artifacts/v1/features.json`  \n",
    "- `../data/processed/hr_attrition_ready.parquet`\n",
    "\n",
    "**Outputs:**  \n",
    "- `../assets/roc_curve.png`  \n",
    "- `../assets/confusion_matrix_050.png`  \n",
    "- `../assets/threshold_metrics.csv` (extra)"
   ]
  }
 ],
 "metadata": {
  "language_info": {
   "name": "python"
  }
 },
 "nbformat": 4,
 "nbformat_minor": 5
}
