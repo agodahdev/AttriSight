{
 "cells": [
  {
   "cell_type": "markdown",
   "id": "08179d15",
   "metadata": {},
   "source": [
    "# Notebook 04 — Evaluate & Release\n",
    "\n",
    "**Goal:** Make simple evaluation visuals for the trained model and save them for the README / dashboard.\n",
    "\n",
    "**What I do here:**\n",
    "1) Load the saved model + features + ready data  \n",
    "2) Compute probabilities and basic metrics  \n",
    "3) Plot & save **ROC Curve**  \n",
    "4) Plot & save **Confusion Matrix** (threshold = 0.50)  \n",
    "5) (Nice extra) Try a few thresholds and save a small table\n",
    "\n",
    "**Inputs:**  \n",
    "- `../artifacts/v1/rf_pipeline.joblib`  \n",
    "- `../artifacts/v1/features.json`  \n",
    "- `../data/processed/hr_attrition_ready.parquet`\n",
    "\n",
    "**Outputs:**  \n",
    "- `../assets/roc_curve.png`  \n",
    "- `../assets/confusion_matrix_050.png`  \n",
    "- `../assets/threshold_metrics.csv` (extra)"
   ]
  },
  {
   "cell_type": "code",
   "execution_count": 1,
   "id": "fd3fa1e3",
   "metadata": {},
   "outputs": [
    {
     "name": "stdout",
     "output_type": "stream",
     "text": [
      "Artifacts dir: /workspace/AttriSight/artifacts/v1\n",
      "Data file:     /workspace/AttriSight/data/processed/hr_attrition_ready.parquet\n",
      "Assets dir:    /workspace/AttriSight/assets\n"
     ]
    }
   ],
   "source": [
    "from pathlib import Path\n",
    "import json, joblib\n",
    "import pandas as pd\n",
    "import numpy as np\n",
    "import matplotlib.pyplot as plt\n",
    "from sklearn.metrics import roc_curve, roc_auc_score, confusion_matrix, ConfusionMatrixDisplay\n",
    "\n",
    "# Paths (notebook is in jupyter_notebooks/, so use ../ to reach project root)\n",
    "ART = Path(\"../artifacts/v1\")\n",
    "DATA = Path(\"../data/processed/hr_attrition_ready.parquet\")\n",
    "ASSETS = Path(\"../assets\")\n",
    "ASSETS.mkdir(parents=True, exist_ok=True)\n",
    "\n",
    "print(\"Artifacts dir:\", ART.resolve())\n",
    "print(\"Data file:    \", DATA.resolve())\n",
    "print(\"Assets dir:   \", ASSETS.resolve())"
   ]
  }
 ],
 "metadata": {
  "kernelspec": {
   "display_name": "Python 3",
   "language": "python",
   "name": "python3"
  },
  "language_info": {
   "codemirror_mode": {
    "name": "ipython",
    "version": 3
   },
   "file_extension": ".py",
   "mimetype": "text/x-python",
   "name": "python",
   "nbconvert_exporter": "python",
   "pygments_lexer": "ipython3",
   "version": "3.12.11"
  }
 },
 "nbformat": 4,
 "nbformat_minor": 5
}
