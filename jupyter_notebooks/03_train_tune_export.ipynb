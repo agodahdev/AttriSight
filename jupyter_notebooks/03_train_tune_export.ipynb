{
 "cells": [
  {
   "cell_type": "markdown",
   "id": "8e658c67",
   "metadata": {},
   "source": [
    "# Notebook 03 — Modeling & Export\n",
    "\n",
    "**Goal:** Train baseline (LogReg, RF), tune RF, evaluate, and export the best pipeline.  \n",
    "**Input:** `../data/processed/hr_attrition_ready.parquet`  \n",
    "**Outputs:** `../artifacts/v1/rf_pipeline.joblib`, `../artifacts/v1/features.json`  \n"
   ]
  }
 ],
 "metadata": {
  "language_info": {
   "name": "python"
  }
 },
 "nbformat": 4,
 "nbformat_minor": 5
}
